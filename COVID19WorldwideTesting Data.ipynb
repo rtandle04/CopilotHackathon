{
 "cells": [
  {
   "cell_type": "code",
   "execution_count": 19,
   "metadata": {},
   "outputs": [
    {
     "name": "stdout",
     "output_type": "stream",
     "text": [
      "         Date Country_Region Province_State  positive  active  hospitalized  \\\n",
      "0  2020-01-16        Iceland     All States       3.0     NaN           NaN   \n",
      "1  2020-01-17        Iceland     All States       4.0     NaN           NaN   \n",
      "2  2020-01-18        Iceland     All States       7.0     NaN           NaN   \n",
      "3  2020-01-20    South Korea     All States       1.0     NaN           NaN   \n",
      "4  2020-01-22  United States     All States       0.0     NaN           NaN   \n",
      "\n",
      "   hospitalizedCurr  recovered  death  total_tested  daily_tested  \\\n",
      "0               NaN        NaN    NaN           NaN           NaN   \n",
      "1               NaN        NaN    NaN           NaN           NaN   \n",
      "2               NaN        NaN    NaN           NaN           NaN   \n",
      "3               NaN        NaN    NaN           4.0           NaN   \n",
      "4               NaN        NaN    0.0           0.0           NaN   \n",
      "\n",
      "   daily_positive  \n",
      "0             NaN  \n",
      "1             1.0  \n",
      "2             3.0  \n",
      "3             NaN  \n",
      "4             NaN  \n"
     ]
    }
   ],
   "source": [
    "import pandas as pd\n",
    "df = pd.read_csv('./tested_worldwide.csv')\n",
    "\n",
    "#Display the first few rows of the dataset\n",
    "print(df.head())\n"
   ]
  },
  {
   "cell_type": "code",
   "execution_count": null,
   "metadata": {},
   "outputs": [],
   "source": []
  },
  {
   "cell_type": "code",
   "execution_count": null,
   "metadata": {},
   "outputs": [],
   "source": []
  },
  {
   "cell_type": "markdown",
   "metadata": {},
   "source": [
    "# Display the number or rows and columsn in the dataframe\n",
    "print(df.shape)\n",
    "\n"
   ]
  }
 ],
 "metadata": {
  "kernelspec": {
   "display_name": "Python 3",
   "language": "python",
   "name": "python3"
  },
  "language_info": {
   "codemirror_mode": {
    "name": "ipython",
    "version": 3
   },
   "file_extension": ".py",
   "mimetype": "text/x-python",
   "name": "python",
   "nbconvert_exporter": "python",
   "pygments_lexer": "ipython3",
   "version": "3.12.2"
  }
 },
 "nbformat": 4,
 "nbformat_minor": 2
}
