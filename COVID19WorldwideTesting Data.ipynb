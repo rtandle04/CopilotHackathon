{
 "cells": [
  {
   "cell_type": "code",
   "execution_count": 541,
   "metadata": {},
   "outputs": [
    {
     "name": "stdout",
     "output_type": "stream",
     "text": [
      "         Date Country_Region Province_State  positive  active  hospitalized  \\\n",
      "0  2020-01-16        Iceland     All States       3.0     NaN           NaN   \n",
      "1  2020-01-17        Iceland     All States       4.0     NaN           NaN   \n",
      "2  2020-01-18        Iceland     All States       7.0     NaN           NaN   \n",
      "3  2020-01-20    South Korea     All States       1.0     NaN           NaN   \n",
      "4  2020-01-22  United States     All States       0.0     NaN           NaN   \n",
      "\n",
      "   hospitalizedCurr  recovered  death  total_tested  daily_tested  \\\n",
      "0               NaN        NaN    NaN           NaN           NaN   \n",
      "1               NaN        NaN    NaN           NaN           NaN   \n",
      "2               NaN        NaN    NaN           NaN           NaN   \n",
      "3               NaN        NaN    NaN           4.0           NaN   \n",
      "4               NaN        NaN    0.0           0.0           NaN   \n",
      "\n",
      "   daily_positive  \n",
      "0             NaN  \n",
      "1             1.0  \n",
      "2             3.0  \n",
      "3             NaN  \n",
      "4             NaN  \n"
     ]
    }
   ],
   "source": [
    "import pandas as pd\n",
    "df = pd.read_csv('./tested_worldwide.csv')\n",
    "\n",
    "#Display the first few rows of the dataset\n",
    "print(df.head())\n"
   ]
  },
  {
   "cell_type": "code",
   "execution_count": null,
   "metadata": {},
   "outputs": [],
   "source": []
  },
  {
   "cell_type": "markdown",
   "metadata": {},
   "source": [
    "# Display the number or rows and columsn in the dataframe\n",
    "print(df.shape)\n",
    "\n"
   ]
  },
  {
   "cell_type": "code",
   "execution_count": 542,
   "metadata": {},
   "outputs": [
    {
     "name": "stdout",
     "output_type": "stream",
     "text": [
      "Date                    0\n",
      "Country_Region          0\n",
      "Province_State          0\n",
      "positive             4242\n",
      "active               9833\n",
      "hospitalized        19231\n",
      "hospitalizedCurr    13080\n",
      "recovered            9626\n",
      "death                4010\n",
      "total_tested          912\n",
      "daily_tested         1174\n",
      "daily_positive       4557\n",
      "dtype: int64\n"
     ]
    }
   ],
   "source": [
    "# Dsiplay the the number of missing values in each column\n",
    "print(df.isnull().sum())\n"
   ]
  },
  {
   "cell_type": "code",
   "execution_count": null,
   "metadata": {
    "vscode": {
     "languageId": "java"
    }
   },
   "outputs": [],
   "source": [
    "print(df.isnull().sum())"
   ]
  },
  {
   "cell_type": "code",
   "execution_count": 543,
   "metadata": {},
   "outputs": [
    {
     "name": "stdout",
     "output_type": "stream",
     "text": [
      "Date                  297\n",
      "Country_Region        147\n",
      "Province_State         81\n",
      "positive            14998\n",
      "active               9554\n",
      "hospitalized         4862\n",
      "hospitalizedCurr     2904\n",
      "recovered            9183\n",
      "death                5641\n",
      "total_tested        23610\n",
      "daily_tested        13375\n",
      "daily_positive       3440\n",
      "dtype: int64\n"
     ]
    }
   ],
   "source": [
    "unique_values = df.nunique()\n",
    "\n",
    "print(unique_values)"
   ]
  },
  {
   "cell_type": "code",
   "execution_count": null,
   "metadata": {},
   "outputs": [],
   "source": []
  },
  {
   "cell_type": "code",
   "execution_count": 544,
   "metadata": {},
   "outputs": [
    {
     "name": "stdout",
     "output_type": "stream",
     "text": [
      "Date                    0\n",
      "Country_Region          0\n",
      "Province_State          0\n",
      "positive             4242\n",
      "active               9833\n",
      "hospitalized        19231\n",
      "hospitalizedCurr    13080\n",
      "recovered            9626\n",
      "death                4010\n",
      "total_tested          912\n",
      "daily_tested         1174\n",
      "daily_positive       4557\n",
      "dtype: int64\n"
     ]
    }
   ],
   "source": [
    "missing_values = df.isnull().sum()\n",
    "\n",
    "print(missing_values)"
   ]
  },
  {
   "cell_type": "code",
   "execution_count": null,
   "metadata": {},
   "outputs": [],
   "source": []
  },
  {
   "cell_type": "code",
   "execution_count": 545,
   "metadata": {},
   "outputs": [],
   "source": [
    "data = df[['Country_Region', 'positive', 'total_tested']]"
   ]
  },
  {
   "cell_type": "code",
   "execution_count": 546,
   "metadata": {
    "vscode": {
     "languageId": "javascript"
    }
   },
   "outputs": [
    {
     "name": "stdout",
     "output_type": "stream",
     "text": [
      "         Country  Positive Cases  Total Tested\n",
      "0        Iceland             3.0           NaN\n",
      "1        Iceland             4.0           NaN\n",
      "2        Iceland             7.0           NaN\n",
      "3    South Korea             1.0           4.0\n",
      "4  United States             0.0           0.0\n"
     ]
    },
    {
     "name": "stderr",
     "output_type": "stream",
     "text": [
      "C:\\Users\\Admin\\AppData\\Local\\Temp\\ipykernel_12204\\1859002200.py:1: SettingWithCopyWarning: \n",
      "A value is trying to be set on a copy of a slice from a DataFrame\n",
      "\n",
      "See the caveats in the documentation: https://pandas.pydata.org/pandas-docs/stable/user_guide/indexing.html#returning-a-view-versus-a-copy\n",
      "  data.rename(columns={\n"
     ]
    }
   ],
   "source": [
    "data.rename(columns={\n",
    "    'Country_Region': 'Country',\n",
    "    'positive': 'Positive Cases',\n",
    "    'total_tested': 'Total Tested'\n",
    "}, inplace=True)\n",
    "\n",
    "print(data.head())"
   ]
  },
  {
   "cell_type": "code",
   "execution_count": 547,
   "metadata": {
    "vscode": {
     "languageId": "markdown"
    }
   },
   "outputs": [
    {
     "name": "stderr",
     "output_type": "stream",
     "text": [
      "C:\\Users\\Admin\\AppData\\Local\\Temp\\ipykernel_12204\\1097598675.py:3: SettingWithCopyWarning: \n",
      "A value is trying to be set on a copy of a slice from a DataFrame\n",
      "\n",
      "See the caveats in the documentation: https://pandas.pydata.org/pandas-docs/stable/user_guide/indexing.html#returning-a-view-versus-a-copy\n",
      "  data.dropna(inplace=True)\n"
     ]
    }
   ],
   "source": [
    "# Drop rows that have missing values\n",
    "\n",
    "data.dropna(inplace=True)\n"
   ]
  },
  {
   "cell_type": "code",
   "execution_count": 548,
   "metadata": {
    "vscode": {
     "languageId": "markdown"
    }
   },
   "outputs": [],
   "source": [
    "# Convert the data types of the columns to appropriate types"
   ]
  },
  {
   "cell_type": "code",
   "execution_count": 549,
   "metadata": {
    "vscode": {
     "languageId": "markdown"
    }
   },
   "outputs": [
    {
     "ename": "SyntaxError",
     "evalue": "invalid syntax (2279423883.py, line 1)",
     "output_type": "error",
     "traceback": [
      "\u001b[1;36m  Cell \u001b[1;32mIn[549], line 1\u001b[1;36m\u001b[0m\n\u001b[1;33m    ```markdown\u001b[0m\n\u001b[1;37m    ^\u001b[0m\n\u001b[1;31mSyntaxError\u001b[0m\u001b[1;31m:\u001b[0m invalid syntax\n"
     ]
    }
   ],
   "source": [
    "```markdown\n",
    "# Convert the data types of the columns to appropriate types\n",
    "\n",
    "To ensure that the data is in the correct format for analysis, we need to convert the data types of the columns to their appropriate types. This includes converting numerical columns to `float` or `int` and date columns to `datetime`.\n",
    "\n",
    "Here is the code to convert the data types:\n",
    "\n",
    "```python\n",
    "data['Positive Cases'] = data['Positive Cases'].astype(int)\n",
    "data['Total Tested'] = data['Total Tested'].astype(int)\n",
    "```\n",
    "\n",
    "By converting the data types, we can perform more accurate calculations and analyses on the dataset.\n",
    "```"
   ]
  },
  {
   "cell_type": "code",
   "execution_count": 289,
   "metadata": {},
   "outputs": [
    {
     "name": "stdout",
     "output_type": "stream",
     "text": [
      "           Country  Positive Cases\n",
      "0          Albania    1.227900e+04\n",
      "1        Argentina    2.822000e+04\n",
      "2          Armenia    7.225809e+06\n",
      "3        Australia    2.065400e+04\n",
      "4          Austria    5.410130e+05\n",
      "..             ...             ...\n",
      "112  United States    1.837768e+09\n",
      "113        Uruguay    2.160000e+03\n",
      "114         Veneto    1.199100e+05\n",
      "115      Venezuela    4.610000e+02\n",
      "116        Vietnam    6.450000e+03\n",
      "\n",
      "[117 rows x 2 columns]\n"
     ]
    }
   ],
   "source": [
    "\n",
    "# Create a new dataframe that contains the total number of positive cases for each country\n",
    "total_positive_cases = data.groupby('Country')['Positive Cases'].sum().reset_index()\n",
    "\n",
    "print(total_positive_cases)\n"
   ]
  },
  {
   "cell_type": "code",
   "execution_count": 364,
   "metadata": {},
   "outputs": [
    {
     "data": {
      "text/html": [
       "<div>\n",
       "<style scoped>\n",
       "    .dataframe tbody tr th:only-of-type {\n",
       "        vertical-align: middle;\n",
       "    }\n",
       "\n",
       "    .dataframe tbody tr th {\n",
       "        vertical-align: top;\n",
       "    }\n",
       "\n",
       "    .dataframe thead th {\n",
       "        text-align: right;\n",
       "    }\n",
       "</style>\n",
       "<table border=\"1\" class=\"dataframe\">\n",
       "  <thead>\n",
       "    <tr style=\"text-align: right;\">\n",
       "      <th></th>\n",
       "      <th>Country</th>\n",
       "      <th>Total Positive Cases</th>\n",
       "    </tr>\n",
       "  </thead>\n",
       "  <tbody>\n",
       "    <tr>\n",
       "      <th>0</th>\n",
       "      <td>Albania</td>\n",
       "      <td>12279.0</td>\n",
       "    </tr>\n",
       "    <tr>\n",
       "      <th>1</th>\n",
       "      <td>Argentina</td>\n",
       "      <td>28220.0</td>\n",
       "    </tr>\n",
       "    <tr>\n",
       "      <th>2</th>\n",
       "      <td>Armenia</td>\n",
       "      <td>7225809.0</td>\n",
       "    </tr>\n",
       "    <tr>\n",
       "      <th>3</th>\n",
       "      <td>Australia</td>\n",
       "      <td>20654.0</td>\n",
       "    </tr>\n",
       "    <tr>\n",
       "      <th>4</th>\n",
       "      <td>Austria</td>\n",
       "      <td>541013.0</td>\n",
       "    </tr>\n",
       "    <tr>\n",
       "      <th>5</th>\n",
       "      <td>Azerbaijan</td>\n",
       "      <td>9475.0</td>\n",
       "    </tr>\n",
       "    <tr>\n",
       "      <th>6</th>\n",
       "      <td>Bahrain</td>\n",
       "      <td>39144.0</td>\n",
       "    </tr>\n",
       "    <tr>\n",
       "      <th>7</th>\n",
       "      <td>Bangladesh</td>\n",
       "      <td>43771939.0</td>\n",
       "    </tr>\n",
       "    <tr>\n",
       "      <th>8</th>\n",
       "      <td>Barbados</td>\n",
       "      <td>354.0</td>\n",
       "    </tr>\n",
       "    <tr>\n",
       "      <th>9</th>\n",
       "      <td>Belarus</td>\n",
       "      <td>75610.0</td>\n",
       "    </tr>\n",
       "  </tbody>\n",
       "</table>\n",
       "</div>"
      ],
      "text/plain": [
       "      Country  Total Positive Cases\n",
       "0     Albania               12279.0\n",
       "1   Argentina               28220.0\n",
       "2     Armenia             7225809.0\n",
       "3   Australia               20654.0\n",
       "4     Austria              541013.0\n",
       "5  Azerbaijan                9475.0\n",
       "6     Bahrain               39144.0\n",
       "7  Bangladesh            43771939.0\n",
       "8    Barbados                 354.0\n",
       "9     Belarus               75610.0"
      ]
     },
     "execution_count": 364,
     "metadata": {},
     "output_type": "execute_result"
    }
   ],
   "source": [
    "# Group the data by 'Country' and calculate the sum of 'Positive Cases'\n",
    "\n",
    "total_positive_cases = data.groupby('Country')['Positive Cases'].sum()\n",
    "\n",
    "# Create a new dataframe with the total positive cases for each country\n",
    "\n",
    "df_total_positive_cases = pd.DataFrame({'Country': total_positive_cases.index, 'Total Positive Cases': total_positive_cases.values})\n",
    "\n",
    "# Display the new dataframe\n",
    "\n",
    "df_total_positive_cases.head(10)"
   ]
  },
  {
   "cell_type": "code",
   "execution_count": 383,
   "metadata": {},
   "outputs": [
    {
     "data": {
      "text/html": [
       "<div>\n",
       "<style scoped>\n",
       "    .dataframe tbody tr th:only-of-type {\n",
       "        vertical-align: middle;\n",
       "    }\n",
       "\n",
       "    .dataframe tbody tr th {\n",
       "        vertical-align: top;\n",
       "    }\n",
       "\n",
       "    .dataframe thead th {\n",
       "        text-align: right;\n",
       "    }\n",
       "</style>\n",
       "<table border=\"1\" class=\"dataframe\">\n",
       "  <thead>\n",
       "    <tr style=\"text-align: right;\">\n",
       "      <th></th>\n",
       "      <th>Country</th>\n",
       "      <th>Total Tests</th>\n",
       "    </tr>\n",
       "  </thead>\n",
       "  <tbody>\n",
       "    <tr>\n",
       "      <th>0</th>\n",
       "      <td>Albania</td>\n",
       "      <td>1.146110e+05</td>\n",
       "    </tr>\n",
       "    <tr>\n",
       "      <th>1</th>\n",
       "      <td>Argentina</td>\n",
       "      <td>3.230350e+05</td>\n",
       "    </tr>\n",
       "    <tr>\n",
       "      <th>2</th>\n",
       "      <td>Armenia</td>\n",
       "      <td>3.566765e+07</td>\n",
       "    </tr>\n",
       "    <tr>\n",
       "      <th>3</th>\n",
       "      <td>Australia</td>\n",
       "      <td>3.232333e+08</td>\n",
       "    </tr>\n",
       "    <tr>\n",
       "      <th>4</th>\n",
       "      <td>Austria</td>\n",
       "      <td>7.610548e+06</td>\n",
       "    </tr>\n",
       "    <tr>\n",
       "      <th>...</th>\n",
       "      <td>...</td>\n",
       "      <td>...</td>\n",
       "    </tr>\n",
       "    <tr>\n",
       "      <th>112</th>\n",
       "      <td>United States</td>\n",
       "      <td>2.359218e+10</td>\n",
       "    </tr>\n",
       "    <tr>\n",
       "      <th>113</th>\n",
       "      <td>Uruguay</td>\n",
       "      <td>5.178900e+04</td>\n",
       "    </tr>\n",
       "    <tr>\n",
       "      <th>114</th>\n",
       "      <td>Veneto</td>\n",
       "      <td>1.650118e+06</td>\n",
       "    </tr>\n",
       "    <tr>\n",
       "      <th>115</th>\n",
       "      <td>Venezuela</td>\n",
       "      <td>3.959040e+05</td>\n",
       "    </tr>\n",
       "    <tr>\n",
       "      <th>116</th>\n",
       "      <td>Vietnam</td>\n",
       "      <td>3.761926e+06</td>\n",
       "    </tr>\n",
       "  </tbody>\n",
       "</table>\n",
       "<p>117 rows × 2 columns</p>\n",
       "</div>"
      ],
      "text/plain": [
       "           Country   Total Tests\n",
       "0          Albania  1.146110e+05\n",
       "1        Argentina  3.230350e+05\n",
       "2          Armenia  3.566765e+07\n",
       "3        Australia  3.232333e+08\n",
       "4          Austria  7.610548e+06\n",
       "..             ...           ...\n",
       "112  United States  2.359218e+10\n",
       "113        Uruguay  5.178900e+04\n",
       "114         Veneto  1.650118e+06\n",
       "115      Venezuela  3.959040e+05\n",
       "116        Vietnam  3.761926e+06\n",
       "\n",
       "[117 rows x 2 columns]"
      ]
     },
     "execution_count": 383,
     "metadata": {},
     "output_type": "execute_result"
    }
   ],
   "source": [
    "# Group the data by 'Country' and calculate the sum of 'Total Tested'\n",
    "\n",
    "total_tests = data.groupby('Country')['Total Tested'].sum()\n",
    "\n",
    "# Create a new dataframe with the total tests conducted for each country\n",
    "\n",
    "df_total_tests = pd.DataFrame({'Country': total_tests.index, 'Total Tests': total_tests.values})\n",
    "\n",
    "# Display the new dataframe\n",
    "\n",
    "df_total_tests"
   ]
  },
  {
   "cell_type": "code",
   "execution_count": 434,
   "metadata": {},
   "outputs": [],
   "source": [
    "# Sort the dataframe in descneding order of the total number of tests conducted\n"
   ]
  },
  {
   "cell_type": "code",
   "execution_count": 435,
   "metadata": {},
   "outputs": [
    {
     "name": "stdout",
     "output_type": "stream",
     "text": [
      "           Country   Total Tests\n",
      "112  United States  2.359218e+10\n",
      "17          Canada  1.797987e+09\n",
      "48           Italy  1.547472e+09\n",
      "47          Israel  3.881970e+08\n",
      "3        Australia  3.232333e+08\n",
      "88          Russia  3.003005e+08\n",
      "7       Bangladesh  2.331498e+08\n",
      "106         Turkey  2.283259e+08\n",
      "26         Czechia  1.800656e+08\n",
      "39          Greece  1.421012e+08\n"
     ]
    }
   ],
   "source": [
    "# Sort the dataframe in descending order of the total number of tests conducted\n",
    "df_total_tests_sorted = df_total_tests.sort_values(by='Total Tests', ascending=False)\n",
    "\n",
    "# Display the sorted dataframe\n",
    "print(df_total_tests_sorted.head(10))"
   ]
  },
  {
   "cell_type": "code",
   "execution_count": 436,
   "metadata": {},
   "outputs": [
    {
     "name": "stdout",
     "output_type": "stream",
     "text": [
      "           Country   Total Tests\n",
      "112  United States  2.359218e+10\n",
      "17          Canada  1.797987e+09\n",
      "48           Italy  1.547472e+09\n",
      "47          Israel  3.881970e+08\n",
      "3        Australia  3.232333e+08\n",
      "88          Russia  3.003005e+08\n",
      "7       Bangladesh  2.331498e+08\n",
      "106         Turkey  2.283259e+08\n",
      "26         Czechia  1.800656e+08\n",
      "39          Greece  1.421012e+08\n"
     ]
    }
   ],
   "source": [
    "# Display the top ten countries with the most tests conducted And press tab to caccept the code and run it\n",
    "print(df_total_tests_sorted.head(10))\n"
   ]
  },
  {
   "cell_type": "code",
   "execution_count": 483,
   "metadata": {
    "vscode": {
     "languageId": "javascript"
    }
   },
   "outputs": [
    {
     "name": "stdout",
     "output_type": "stream",
     "text": [
      "         Country  Positive Cases  Total Tested  Positive Ratio\n",
      "3    South Korea             1.0           4.0            0.25\n",
      "4  United States             0.0           0.0             NaN\n",
      "5  United States             0.0           0.0             NaN\n",
      "6  United States             0.0           0.0             NaN\n",
      "7  United States             0.0           0.0             NaN\n"
     ]
    },
    {
     "name": "stderr",
     "output_type": "stream",
     "text": [
      "C:\\Users\\Admin\\AppData\\Local\\Temp\\ipykernel_12204\\2638507291.py:1: SettingWithCopyWarning: \n",
      "A value is trying to be set on a copy of a slice from a DataFrame.\n",
      "Try using .loc[row_indexer,col_indexer] = value instead\n",
      "\n",
      "See the caveats in the documentation: https://pandas.pydata.org/pandas-docs/stable/user_guide/indexing.html#returning-a-view-versus-a-copy\n",
      "  data['Positive Ratio'] = data['Positive Cases'] / data['Total Tested']\n"
     ]
    }
   ],
   "source": [
    "data['Positive Ratio'] = data['Positive Cases'] / data['Total Tested']\n",
    "\n",
    "print(data.head())"
   ]
  },
  {
   "cell_type": "code",
   "execution_count": 493,
   "metadata": {},
   "outputs": [
    {
     "name": "stdout",
     "output_type": "stream",
     "text": [
      "           Country   Total Tests\n",
      "112  United States  2.359218e+10\n",
      "17          Canada  1.797987e+09\n",
      "48           Italy  1.547472e+09\n",
      "47          Israel  3.881970e+08\n",
      "3        Australia  3.232333e+08\n",
      "88          Russia  3.003005e+08\n",
      "7       Bangladesh  2.331498e+08\n",
      "106         Turkey  2.283259e+08\n",
      "26         Czechia  1.800656e+08\n",
      "39          Greece  1.421012e+08\n"
     ]
    }
   ],
   "source": [
    "df_total_tests_sorted = df_total_tests.sort_values(by='Total Tests', ascending=False)\n",
    "\n",
    "# Display the sorted dataframe\n",
    "print(df_total_tests_sorted.head(10))"
   ]
  },
  {
   "cell_type": "code",
   "execution_count": 503,
   "metadata": {},
   "outputs": [
    {
     "data": {
      "text/html": [
       "<div>\n",
       "<style scoped>\n",
       "    .dataframe tbody tr th:only-of-type {\n",
       "        vertical-align: middle;\n",
       "    }\n",
       "\n",
       "    .dataframe tbody tr th {\n",
       "        vertical-align: top;\n",
       "    }\n",
       "\n",
       "    .dataframe thead th {\n",
       "        text-align: right;\n",
       "    }\n",
       "</style>\n",
       "<table border=\"1\" class=\"dataframe\">\n",
       "  <thead>\n",
       "    <tr style=\"text-align: right;\">\n",
       "      <th></th>\n",
       "      <th>Country</th>\n",
       "      <th>Positive Test Rate</th>\n",
       "    </tr>\n",
       "  </thead>\n",
       "  <tbody>\n",
       "    <tr>\n",
       "      <th>102</th>\n",
       "      <td>Tanzania</td>\n",
       "      <td>0.780675</td>\n",
       "    </tr>\n",
       "    <tr>\n",
       "      <th>15</th>\n",
       "      <td>Burkina Faso</td>\n",
       "      <td>0.480870</td>\n",
       "    </tr>\n",
       "    <tr>\n",
       "      <th>30</th>\n",
       "      <td>Ecuador</td>\n",
       "      <td>0.322330</td>\n",
       "    </tr>\n",
       "  </tbody>\n",
       "</table>\n",
       "</div>"
      ],
      "text/plain": [
       "          Country  Positive Test Rate\n",
       "102      Tanzania            0.780675\n",
       "15   Burkina Faso            0.480870\n",
       "30        Ecuador            0.322330"
      ]
     },
     "execution_count": 503,
     "metadata": {},
     "output_type": "execute_result"
    }
   ],
   "source": [
    "# Merge the dataframes on 'Country'\n",
    "merged_df = pd.merge(df_total_positive_cases, df_total_tests, on='Country')\n",
    "\n",
    "# Calculate the Positive Test Rate\n",
    "merged_df['Positive Test Rate'] = merged_df['Total Positive Cases'] / merged_df['Total Tests']\n",
    "\n",
    "# Display the top three countries with the highest ratio of positive cases to the number of tests conducted\n",
    "top_countries = merged_df.nlargest(3, 'Positive Test Rate')\n",
    "\n",
    "top_countries[['Country', 'Positive Test Rate']]"
   ]
  },
  {
   "cell_type": "code",
   "execution_count": 522,
   "metadata": {},
   "outputs": [
    {
     "ename": "ModuleNotFoundError",
     "evalue": "No module named 'matplotlib'",
     "output_type": "error",
     "traceback": [
      "\u001b[1;31m---------------------------------------------------------------------------\u001b[0m",
      "\u001b[1;31mModuleNotFoundError\u001b[0m                       Traceback (most recent call last)",
      "Cell \u001b[1;32mIn[522], line 3\u001b[0m\n\u001b[0;32m      1\u001b[0m \u001b[38;5;66;03m#Display the results a chart that shows the top three countries with the highest ratio of positive cases to the number\u001b[39;00m\n\u001b[1;32m----> 3\u001b[0m \u001b[38;5;28;01mimport\u001b[39;00m \u001b[38;5;21;01mmatplotlib\u001b[39;00m\u001b[38;5;21;01m.\u001b[39;00m\u001b[38;5;21;01mpyplot\u001b[39;00m \u001b[38;5;28;01mas\u001b[39;00m \u001b[38;5;21;01mplt\u001b[39;00m\n\u001b[0;32m      5\u001b[0m top_countries\u001b[38;5;241m.\u001b[39mplot(x\u001b[38;5;241m=\u001b[39m\u001b[38;5;124m'\u001b[39m\u001b[38;5;124mCountry\u001b[39m\u001b[38;5;124m'\u001b[39m, y\u001b[38;5;241m=\u001b[39m\u001b[38;5;124m'\u001b[39m\u001b[38;5;124mPositive Test Rate\u001b[39m\u001b[38;5;124m'\u001b[39m, kind\u001b[38;5;241m=\u001b[39m\u001b[38;5;124m'\u001b[39m\u001b[38;5;124mbar\u001b[39m\u001b[38;5;124m'\u001b[39m)\n",
      "\u001b[1;31mModuleNotFoundError\u001b[0m: No module named 'matplotlib'"
     ]
    }
   ],
   "source": [
    "#Display the results a chart that shows the top three countries with the highest ratio of positive cases to the number\n",
    "\n",
    "%pip install matplotlib\n",
    "import matplotlib.pyplot as plt\n",
    "\n",
    "top_countries.plot(x='Country', y='Positive Test Rate', kind='bar')"
   ]
  },
  {
   "cell_type": "code",
   "execution_count": 550,
   "metadata": {},
   "outputs": [
    {
     "name": "stderr",
     "output_type": "stream",
     "text": [
      "Matplotlib is building the font cache; this may take a moment.\n"
     ]
    },
    {
     "data": {
      "image/png": "[encoded data removed]",
      "text/plain": [
       "<Figure size 640x480 with 1 Axes>"
      ]
     },
     "metadata": {},
     "output_type": "display_data"
    }
   ],
   "source": [
    "#Display the results in a chart that shows the top ten countries with the most positive cases\n",
    "\n",
    "import matplotlib.pyplot as plt\n",
    "\n",
    "df_total_positive_cases.head(10).plot(x='Country', y='Total Positive Cases', kind='bar')\n",
    "\n",
    "plt.xlabel('Country')\n",
    "\n",
    "plt.ylabel('Total Positive Cases')\n",
    "\n",
    "plt.title('Top Ten Countries with the Most Positive Cases')\n",
    "\n",
    "plt.show()"
   ]
  },
  {
   "cell_type": "code",
   "execution_count": 551,
   "metadata": {},
   "outputs": [
    {
     "data": {
      "text/plain": [
       "<Axes: xlabel='Country'>"
      ]
     },
     "execution_count": 551,
     "metadata": {},
     "output_type": "execute_result"
    },
    {
     "data": {
      "image/png": "[encoded data removed]",
      "text/plain": [
       "<Figure size 640x480 with 1 Axes>"
      ]
     },
     "metadata": {},
     "output_type": "display_data"
    }
   ],
   "source": [
    "# Display the results in chart that shows the top ten countries with the most conducted And press the tab to accept the code and run it \n",
    "df_total_tests_sorted.head(10).plot(x='Country', y='Total Tests', kind='bar')\n"
   ]
  }
 ],
 "metadata": {
  "kernelspec": {
   "display_name": "Python 3",
   "language": "python",
   "name": "python3"
  },
  "language_info": {
   "codemirror_mode": {
    "name": "ipython",
    "version": 3
   },
   "file_extension": ".py",
   "mimetype": "text/x-python",
   "name": "python",
   "nbconvert_exporter": "python",
   "pygments_lexer": "ipython3",
   "version": "3.12.2"
  }
 },
 "nbformat": 4,
 "nbformat_minor": 2
}
